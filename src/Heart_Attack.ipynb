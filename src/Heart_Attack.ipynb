{
 "cells": [
  {
   "cell_type": "code",
   "execution_count": 76,
   "id": "e88fcfba-a120-42a3-a948-8db63c174f83",
   "metadata": {},
   "outputs": [],
   "source": [
    "# import packages\n",
    "\n",
    "import numpy as np\n",
    "import pandas as pd\n",
    "\n",
    "import matplotlib.pyplot as plt\n",
    "import seaborn as sns\n",
    "\n",
    "from sklearn.preprocessing import RobustScaler\n",
    "\n",
    "# Train Test Split\n",
    "from sklearn.model_selection import train_test_split\n",
    "\n",
    "# Model0\n",
    "from sklearn.linear_model import LogisticRegression,LinearRegression\n",
    "\n",
    "# Métricas\n",
    "from sklearn.metrics import accuracy_score, classification_report, roc_curve\n",
    "\n",
    "import warnings as wr\n",
    "wr.filterwarnings(\"ignore\") #to ignore the warnings"
   ]
  },
  {
   "cell_type": "markdown",
   "id": "40cfe4e5-8e92-4e8b-b15a-6eb111d5795f",
   "metadata": {},
   "source": [
    "### 1. Limpieza y tratamiento de Datos"
   ]
  },
  {
   "cell_type": "code",
   "execution_count": 77,
   "id": "a9673135-938a-4f84-a22a-030bffcec9d1",
   "metadata": {},
   "outputs": [
    {
     "data": {
      "text/html": [
       "<div>\n",
       "<style scoped>\n",
       "    .dataframe tbody tr th:only-of-type {\n",
       "        vertical-align: middle;\n",
       "    }\n",
       "\n",
       "    .dataframe tbody tr th {\n",
       "        vertical-align: top;\n",
       "    }\n",
       "\n",
       "    .dataframe thead th {\n",
       "        text-align: right;\n",
       "    }\n",
       "</style>\n",
       "<table border=\"1\" class=\"dataframe\">\n",
       "  <thead>\n",
       "    <tr style=\"text-align: right;\">\n",
       "      <th></th>\n",
       "      <th>age</th>\n",
       "      <th>sex</th>\n",
       "      <th>cp</th>\n",
       "      <th>trtbps</th>\n",
       "      <th>chol</th>\n",
       "      <th>fbs</th>\n",
       "      <th>restecg</th>\n",
       "      <th>thalachh</th>\n",
       "      <th>exng</th>\n",
       "      <th>oldpeak</th>\n",
       "      <th>slp</th>\n",
       "      <th>caa</th>\n",
       "      <th>thall</th>\n",
       "      <th>output</th>\n",
       "    </tr>\n",
       "  </thead>\n",
       "  <tbody>\n",
       "    <tr>\n",
       "      <th>0</th>\n",
       "      <td>63</td>\n",
       "      <td>1</td>\n",
       "      <td>3</td>\n",
       "      <td>145</td>\n",
       "      <td>233</td>\n",
       "      <td>1</td>\n",
       "      <td>0</td>\n",
       "      <td>150</td>\n",
       "      <td>0</td>\n",
       "      <td>2.3</td>\n",
       "      <td>0</td>\n",
       "      <td>0</td>\n",
       "      <td>1</td>\n",
       "      <td>1</td>\n",
       "    </tr>\n",
       "    <tr>\n",
       "      <th>1</th>\n",
       "      <td>37</td>\n",
       "      <td>1</td>\n",
       "      <td>2</td>\n",
       "      <td>130</td>\n",
       "      <td>250</td>\n",
       "      <td>0</td>\n",
       "      <td>1</td>\n",
       "      <td>187</td>\n",
       "      <td>0</td>\n",
       "      <td>3.5</td>\n",
       "      <td>0</td>\n",
       "      <td>0</td>\n",
       "      <td>2</td>\n",
       "      <td>1</td>\n",
       "    </tr>\n",
       "    <tr>\n",
       "      <th>2</th>\n",
       "      <td>41</td>\n",
       "      <td>0</td>\n",
       "      <td>1</td>\n",
       "      <td>130</td>\n",
       "      <td>204</td>\n",
       "      <td>0</td>\n",
       "      <td>0</td>\n",
       "      <td>172</td>\n",
       "      <td>0</td>\n",
       "      <td>1.4</td>\n",
       "      <td>2</td>\n",
       "      <td>0</td>\n",
       "      <td>2</td>\n",
       "      <td>1</td>\n",
       "    </tr>\n",
       "    <tr>\n",
       "      <th>3</th>\n",
       "      <td>56</td>\n",
       "      <td>1</td>\n",
       "      <td>1</td>\n",
       "      <td>120</td>\n",
       "      <td>236</td>\n",
       "      <td>0</td>\n",
       "      <td>1</td>\n",
       "      <td>178</td>\n",
       "      <td>0</td>\n",
       "      <td>0.8</td>\n",
       "      <td>2</td>\n",
       "      <td>0</td>\n",
       "      <td>2</td>\n",
       "      <td>1</td>\n",
       "    </tr>\n",
       "    <tr>\n",
       "      <th>4</th>\n",
       "      <td>57</td>\n",
       "      <td>0</td>\n",
       "      <td>0</td>\n",
       "      <td>120</td>\n",
       "      <td>354</td>\n",
       "      <td>0</td>\n",
       "      <td>1</td>\n",
       "      <td>163</td>\n",
       "      <td>1</td>\n",
       "      <td>0.6</td>\n",
       "      <td>2</td>\n",
       "      <td>0</td>\n",
       "      <td>2</td>\n",
       "      <td>1</td>\n",
       "    </tr>\n",
       "  </tbody>\n",
       "</table>\n",
       "</div>"
      ],
      "text/plain": [
       "   age  sex  cp  trtbps  chol  fbs  restecg  thalachh  exng  oldpeak  slp  \\\n",
       "0   63    1   3     145   233    1        0       150     0      2.3    0   \n",
       "1   37    1   2     130   250    0        1       187     0      3.5    0   \n",
       "2   41    0   1     130   204    0        0       172     0      1.4    2   \n",
       "3   56    1   1     120   236    0        1       178     0      0.8    2   \n",
       "4   57    0   0     120   354    0        1       163     1      0.6    2   \n",
       "\n",
       "   caa  thall  output  \n",
       "0    0      1       1  \n",
       "1    0      2       1  \n",
       "2    0      2       1  \n",
       "3    0      2       1  \n",
       "4    0      2       1  "
      ]
     },
     "execution_count": 77,
     "metadata": {},
     "output_type": "execute_result"
    }
   ],
   "source": [
    "# Leemos el csv Heart\n",
    "df=pd.read_csv(\"heart.csv\")\n",
    "\n",
    "# Buscamos las 5 primeras filas y vemos que datos tenemos\n",
    "df.head()"
   ]
  },
  {
   "cell_type": "code",
   "execution_count": 78,
   "id": "2e7989ef-f23a-4a56-8926-0cea4b88b9b3",
   "metadata": {},
   "outputs": [
    {
     "name": "stdout",
     "output_type": "stream",
     "text": [
      "Número de filas = 303 y número de columnas = 14\n"
     ]
    }
   ],
   "source": [
    "# Contabilizamos el número de filas y columnas que tenemos\n",
    "\n",
    "print('Número de filas =',df.shape[0], 'y número de columnas =',df.shape[1])"
   ]
  },
  {
   "cell_type": "code",
   "execution_count": 79,
   "id": "52e81dd6-6efc-4b34-af7b-0a525486d34b",
   "metadata": {},
   "outputs": [],
   "source": [
    "# Vamos a eliminar una serie de columnas que no nos interesan para nuestro análisis futuro.\n",
    "\n",
    "df.drop(columns=['caa','restecg','slp','cp','oldpeak'],inplace = True)"
   ]
  },
  {
   "cell_type": "code",
   "execution_count": 80,
   "id": "f60d9ba9-7af1-4b03-93be-701b5f5c26db",
   "metadata": {},
   "outputs": [
    {
     "data": {
      "text/html": [
       "<div>\n",
       "<style scoped>\n",
       "    .dataframe tbody tr th:only-of-type {\n",
       "        vertical-align: middle;\n",
       "    }\n",
       "\n",
       "    .dataframe tbody tr th {\n",
       "        vertical-align: top;\n",
       "    }\n",
       "\n",
       "    .dataframe thead th {\n",
       "        text-align: right;\n",
       "    }\n",
       "</style>\n",
       "<table border=\"1\" class=\"dataframe\">\n",
       "  <thead>\n",
       "    <tr style=\"text-align: right;\">\n",
       "      <th></th>\n",
       "      <th>age</th>\n",
       "      <th>sex</th>\n",
       "      <th>trtbps</th>\n",
       "      <th>chol</th>\n",
       "      <th>fbs</th>\n",
       "      <th>thalachh</th>\n",
       "      <th>exng</th>\n",
       "      <th>thall</th>\n",
       "      <th>output</th>\n",
       "    </tr>\n",
       "  </thead>\n",
       "  <tbody>\n",
       "    <tr>\n",
       "      <th>0</th>\n",
       "      <td>63</td>\n",
       "      <td>1</td>\n",
       "      <td>145</td>\n",
       "      <td>233</td>\n",
       "      <td>1</td>\n",
       "      <td>150</td>\n",
       "      <td>0</td>\n",
       "      <td>1</td>\n",
       "      <td>1</td>\n",
       "    </tr>\n",
       "    <tr>\n",
       "      <th>1</th>\n",
       "      <td>37</td>\n",
       "      <td>1</td>\n",
       "      <td>130</td>\n",
       "      <td>250</td>\n",
       "      <td>0</td>\n",
       "      <td>187</td>\n",
       "      <td>0</td>\n",
       "      <td>2</td>\n",
       "      <td>1</td>\n",
       "    </tr>\n",
       "    <tr>\n",
       "      <th>2</th>\n",
       "      <td>41</td>\n",
       "      <td>0</td>\n",
       "      <td>130</td>\n",
       "      <td>204</td>\n",
       "      <td>0</td>\n",
       "      <td>172</td>\n",
       "      <td>0</td>\n",
       "      <td>2</td>\n",
       "      <td>1</td>\n",
       "    </tr>\n",
       "    <tr>\n",
       "      <th>3</th>\n",
       "      <td>56</td>\n",
       "      <td>1</td>\n",
       "      <td>120</td>\n",
       "      <td>236</td>\n",
       "      <td>0</td>\n",
       "      <td>178</td>\n",
       "      <td>0</td>\n",
       "      <td>2</td>\n",
       "      <td>1</td>\n",
       "    </tr>\n",
       "    <tr>\n",
       "      <th>4</th>\n",
       "      <td>57</td>\n",
       "      <td>0</td>\n",
       "      <td>120</td>\n",
       "      <td>354</td>\n",
       "      <td>0</td>\n",
       "      <td>163</td>\n",
       "      <td>1</td>\n",
       "      <td>2</td>\n",
       "      <td>1</td>\n",
       "    </tr>\n",
       "    <tr>\n",
       "      <th>...</th>\n",
       "      <td>...</td>\n",
       "      <td>...</td>\n",
       "      <td>...</td>\n",
       "      <td>...</td>\n",
       "      <td>...</td>\n",
       "      <td>...</td>\n",
       "      <td>...</td>\n",
       "      <td>...</td>\n",
       "      <td>...</td>\n",
       "    </tr>\n",
       "    <tr>\n",
       "      <th>298</th>\n",
       "      <td>57</td>\n",
       "      <td>0</td>\n",
       "      <td>140</td>\n",
       "      <td>241</td>\n",
       "      <td>0</td>\n",
       "      <td>123</td>\n",
       "      <td>1</td>\n",
       "      <td>3</td>\n",
       "      <td>0</td>\n",
       "    </tr>\n",
       "    <tr>\n",
       "      <th>299</th>\n",
       "      <td>45</td>\n",
       "      <td>1</td>\n",
       "      <td>110</td>\n",
       "      <td>264</td>\n",
       "      <td>0</td>\n",
       "      <td>132</td>\n",
       "      <td>0</td>\n",
       "      <td>3</td>\n",
       "      <td>0</td>\n",
       "    </tr>\n",
       "    <tr>\n",
       "      <th>300</th>\n",
       "      <td>68</td>\n",
       "      <td>1</td>\n",
       "      <td>144</td>\n",
       "      <td>193</td>\n",
       "      <td>1</td>\n",
       "      <td>141</td>\n",
       "      <td>0</td>\n",
       "      <td>3</td>\n",
       "      <td>0</td>\n",
       "    </tr>\n",
       "    <tr>\n",
       "      <th>301</th>\n",
       "      <td>57</td>\n",
       "      <td>1</td>\n",
       "      <td>130</td>\n",
       "      <td>131</td>\n",
       "      <td>0</td>\n",
       "      <td>115</td>\n",
       "      <td>1</td>\n",
       "      <td>3</td>\n",
       "      <td>0</td>\n",
       "    </tr>\n",
       "    <tr>\n",
       "      <th>302</th>\n",
       "      <td>57</td>\n",
       "      <td>0</td>\n",
       "      <td>130</td>\n",
       "      <td>236</td>\n",
       "      <td>0</td>\n",
       "      <td>174</td>\n",
       "      <td>0</td>\n",
       "      <td>2</td>\n",
       "      <td>0</td>\n",
       "    </tr>\n",
       "  </tbody>\n",
       "</table>\n",
       "<p>303 rows × 9 columns</p>\n",
       "</div>"
      ],
      "text/plain": [
       "     age  sex  trtbps  chol  fbs  thalachh  exng  thall  output\n",
       "0     63    1     145   233    1       150     0      1       1\n",
       "1     37    1     130   250    0       187     0      2       1\n",
       "2     41    0     130   204    0       172     0      2       1\n",
       "3     56    1     120   236    0       178     0      2       1\n",
       "4     57    0     120   354    0       163     1      2       1\n",
       "..   ...  ...     ...   ...  ...       ...   ...    ...     ...\n",
       "298   57    0     140   241    0       123     1      3       0\n",
       "299   45    1     110   264    0       132     0      3       0\n",
       "300   68    1     144   193    1       141     0      3       0\n",
       "301   57    1     130   131    0       115     1      3       0\n",
       "302   57    0     130   236    0       174     0      2       0\n",
       "\n",
       "[303 rows x 9 columns]"
      ]
     },
     "execution_count": 80,
     "metadata": {},
     "output_type": "execute_result"
    }
   ],
   "source": [
    "df"
   ]
  },
  {
   "cell_type": "code",
   "execution_count": 81,
   "id": "b86f1ee4-0b65-4024-a032-e059a96c5a7b",
   "metadata": {},
   "outputs": [
    {
     "name": "stdout",
     "output_type": "stream",
     "text": [
      "<class 'pandas.core.frame.DataFrame'>\n",
      "RangeIndex: 303 entries, 0 to 302\n",
      "Data columns (total 9 columns):\n",
      " #   Column    Non-Null Count  Dtype\n",
      "---  ------    --------------  -----\n",
      " 0   age       303 non-null    int64\n",
      " 1   sex       303 non-null    int64\n",
      " 2   trtbps    303 non-null    int64\n",
      " 3   chol      303 non-null    int64\n",
      " 4   fbs       303 non-null    int64\n",
      " 5   thalachh  303 non-null    int64\n",
      " 6   exng      303 non-null    int64\n",
      " 7   thall     303 non-null    int64\n",
      " 8   output    303 non-null    int64\n",
      "dtypes: int64(9)\n",
      "memory usage: 21.4 KB\n"
     ]
    }
   ],
   "source": [
    "# Ahora vamos a ver que información tenemos de nuestros datos\n",
    "\n",
    "df.info()"
   ]
  },
  {
   "cell_type": "markdown",
   "id": "61bf0349-2307-468a-acd8-5d7eead8e70a",
   "metadata": {},
   "source": [
    "- Como podemos obervar, no tenemos ningun dato nulo en nuestras columnas. Además, vemos como todos los datos son de tipo enter a excepción de oldpeak que es float."
   ]
  },
  {
   "cell_type": "code",
   "execution_count": 82,
   "id": "7d75a9d1-8f49-4cae-af84-16d98525aabc",
   "metadata": {},
   "outputs": [
    {
     "data": {
      "text/plain": [
       "age         0\n",
       "sex         0\n",
       "trtbps      0\n",
       "chol        0\n",
       "fbs         0\n",
       "thalachh    0\n",
       "exng        0\n",
       "thall       0\n",
       "output      0\n",
       "dtype: int64"
      ]
     },
     "execution_count": 82,
     "metadata": {},
     "output_type": "execute_result"
    }
   ],
   "source": [
    "# Verificamos que no tengamos valores nulos.\n",
    "\n",
    "df.isnull().sum()"
   ]
  },
  {
   "cell_type": "markdown",
   "id": "8655eeb8-cc88-4dc3-a442-c7a5c3d768f0",
   "metadata": {},
   "source": [
    "- Podemos concluir que tenemos un 0% de valores nulos en nuestros datos, por lo que a priori no deberemos utilizar ninguna fórmula de sunstitución de nulos. "
   ]
  },
  {
   "cell_type": "code",
   "execution_count": 83,
   "id": "8d9bf0d2-eea1-4670-8d2a-3b201b21857b",
   "metadata": {},
   "outputs": [
    {
     "data": {
      "text/plain": [
       "1"
      ]
     },
     "execution_count": 83,
     "metadata": {},
     "output_type": "execute_result"
    }
   ],
   "source": [
    "# Una vez analizados los valores nulos, vamos a ver si tenemos valores duplicados en nuestro dataset.\n",
    "\n",
    "df.duplicated().sum()"
   ]
  },
  {
   "cell_type": "code",
   "execution_count": 84,
   "id": "757ec45f-8b08-41c8-b4c4-2636841502ce",
   "metadata": {},
   "outputs": [
    {
     "name": "stdout",
     "output_type": "stream",
     "text": [
      "Number of rows are = 302 ,and number of columns are = 9\n"
     ]
    }
   ],
   "source": [
    "# Eliminamos el valor duplicado obtenido y imprimimos por pantalla el número de filas resultantes.\n",
    "\n",
    "df.drop_duplicates(inplace=True)\n",
    "print('Number of rows are =',df.shape[0], ',and number of columns are =',df.shape[1])"
   ]
  },
  {
   "cell_type": "code",
   "execution_count": 85,
   "id": "5f37ac4d-6022-4ce9-837a-299f82c65911",
   "metadata": {},
   "outputs": [
    {
     "data": {
      "text/html": [
       "<div>\n",
       "<style scoped>\n",
       "    .dataframe tbody tr th:only-of-type {\n",
       "        vertical-align: middle;\n",
       "    }\n",
       "\n",
       "    .dataframe tbody tr th {\n",
       "        vertical-align: top;\n",
       "    }\n",
       "\n",
       "    .dataframe thead th {\n",
       "        text-align: right;\n",
       "    }\n",
       "</style>\n",
       "<table border=\"1\" class=\"dataframe\">\n",
       "  <thead>\n",
       "    <tr style=\"text-align: right;\">\n",
       "      <th></th>\n",
       "      <th>count</th>\n",
       "      <th>mean</th>\n",
       "      <th>std</th>\n",
       "      <th>min</th>\n",
       "      <th>25%</th>\n",
       "      <th>50%</th>\n",
       "      <th>75%</th>\n",
       "      <th>max</th>\n",
       "    </tr>\n",
       "  </thead>\n",
       "  <tbody>\n",
       "    <tr>\n",
       "      <th>age</th>\n",
       "      <td>302.0</td>\n",
       "      <td>54.420530</td>\n",
       "      <td>9.047970</td>\n",
       "      <td>29.0</td>\n",
       "      <td>48.00</td>\n",
       "      <td>55.5</td>\n",
       "      <td>61.00</td>\n",
       "      <td>77.0</td>\n",
       "    </tr>\n",
       "    <tr>\n",
       "      <th>sex</th>\n",
       "      <td>302.0</td>\n",
       "      <td>0.682119</td>\n",
       "      <td>0.466426</td>\n",
       "      <td>0.0</td>\n",
       "      <td>0.00</td>\n",
       "      <td>1.0</td>\n",
       "      <td>1.00</td>\n",
       "      <td>1.0</td>\n",
       "    </tr>\n",
       "    <tr>\n",
       "      <th>trtbps</th>\n",
       "      <td>302.0</td>\n",
       "      <td>131.602649</td>\n",
       "      <td>17.563394</td>\n",
       "      <td>94.0</td>\n",
       "      <td>120.00</td>\n",
       "      <td>130.0</td>\n",
       "      <td>140.00</td>\n",
       "      <td>200.0</td>\n",
       "    </tr>\n",
       "    <tr>\n",
       "      <th>chol</th>\n",
       "      <td>302.0</td>\n",
       "      <td>246.500000</td>\n",
       "      <td>51.753489</td>\n",
       "      <td>126.0</td>\n",
       "      <td>211.00</td>\n",
       "      <td>240.5</td>\n",
       "      <td>274.75</td>\n",
       "      <td>564.0</td>\n",
       "    </tr>\n",
       "    <tr>\n",
       "      <th>fbs</th>\n",
       "      <td>302.0</td>\n",
       "      <td>0.149007</td>\n",
       "      <td>0.356686</td>\n",
       "      <td>0.0</td>\n",
       "      <td>0.00</td>\n",
       "      <td>0.0</td>\n",
       "      <td>0.00</td>\n",
       "      <td>1.0</td>\n",
       "    </tr>\n",
       "    <tr>\n",
       "      <th>thalachh</th>\n",
       "      <td>302.0</td>\n",
       "      <td>149.569536</td>\n",
       "      <td>22.903527</td>\n",
       "      <td>71.0</td>\n",
       "      <td>133.25</td>\n",
       "      <td>152.5</td>\n",
       "      <td>166.00</td>\n",
       "      <td>202.0</td>\n",
       "    </tr>\n",
       "    <tr>\n",
       "      <th>exng</th>\n",
       "      <td>302.0</td>\n",
       "      <td>0.327815</td>\n",
       "      <td>0.470196</td>\n",
       "      <td>0.0</td>\n",
       "      <td>0.00</td>\n",
       "      <td>0.0</td>\n",
       "      <td>1.00</td>\n",
       "      <td>1.0</td>\n",
       "    </tr>\n",
       "    <tr>\n",
       "      <th>thall</th>\n",
       "      <td>302.0</td>\n",
       "      <td>2.314570</td>\n",
       "      <td>0.613026</td>\n",
       "      <td>0.0</td>\n",
       "      <td>2.00</td>\n",
       "      <td>2.0</td>\n",
       "      <td>3.00</td>\n",
       "      <td>3.0</td>\n",
       "    </tr>\n",
       "    <tr>\n",
       "      <th>output</th>\n",
       "      <td>302.0</td>\n",
       "      <td>0.543046</td>\n",
       "      <td>0.498970</td>\n",
       "      <td>0.0</td>\n",
       "      <td>0.00</td>\n",
       "      <td>1.0</td>\n",
       "      <td>1.00</td>\n",
       "      <td>1.0</td>\n",
       "    </tr>\n",
       "  </tbody>\n",
       "</table>\n",
       "</div>"
      ],
      "text/plain": [
       "          count        mean        std    min     25%    50%     75%    max\n",
       "age       302.0   54.420530   9.047970   29.0   48.00   55.5   61.00   77.0\n",
       "sex       302.0    0.682119   0.466426    0.0    0.00    1.0    1.00    1.0\n",
       "trtbps    302.0  131.602649  17.563394   94.0  120.00  130.0  140.00  200.0\n",
       "chol      302.0  246.500000  51.753489  126.0  211.00  240.5  274.75  564.0\n",
       "fbs       302.0    0.149007   0.356686    0.0    0.00    0.0    0.00    1.0\n",
       "thalachh  302.0  149.569536  22.903527   71.0  133.25  152.5  166.00  202.0\n",
       "exng      302.0    0.327815   0.470196    0.0    0.00    0.0    1.00    1.0\n",
       "thall     302.0    2.314570   0.613026    0.0    2.00    2.0    3.00    3.0\n",
       "output    302.0    0.543046   0.498970    0.0    0.00    1.0    1.00    1.0"
      ]
     },
     "execution_count": 85,
     "metadata": {},
     "output_type": "execute_result"
    }
   ],
   "source": [
    "# Hecho esto, vamos a ver como nos queda el análisis descriptivo de nuestros datos resultantes.\n",
    "\n",
    "df.describe().T"
   ]
  },
  {
   "cell_type": "markdown",
   "id": "f00cbdd3-2c71-41cf-9692-6a13f349987f",
   "metadata": {},
   "source": [
    "- La presión arterial promedio de un individuo es 131.6 mientras que el valor máximo sube a 200.\n",
    "- La frecuencia cardíaca media del grupo es de 149.5, con un máximo de 202. Tambíen vemos que el 75% de los datos tienen valores inferiores a 166.\n",
    "- La edad del grupo varía de 29 a 77 años y la media de edad es de 54.42.\n",
    "- También podemos observar como tenemos más sex = 1 que igual a 0. Esto lo veamos porque el promedio es superior a 0.5, lo que nos indica que hay más valores igual a 1."
   ]
  },
  {
   "cell_type": "code",
   "execution_count": 86,
   "id": "3f1a1f3d-a273-4266-9e35-0cbdbbc95f1d",
   "metadata": {},
   "outputs": [
    {
     "name": "stdout",
     "output_type": "stream",
     "text": [
      "The categorial cols are :  ['sex', 'exng', 'fbs', 'thall']\n",
      "The continuous cols are :  ['age', 'trtbps', 'chol', 'thalachh']\n",
      "The target variable is :   ['output']\n"
     ]
    }
   ],
   "source": [
    "# Dividimos por el tipo de columnas que tenemos.\n",
    "\n",
    "cat_cols = ['sex','exng','fbs','thall']\n",
    "con_cols = [\"age\",\"trtbps\",\"chol\",\"thalachh\"]\n",
    "target_col = [\"output\"]\n",
    "print(\"The categorial cols are : \", cat_cols)\n",
    "print(\"The continuous cols are : \", con_cols)\n",
    "print(\"The target variable is :  \", target_col)"
   ]
  },
  {
   "cell_type": "code",
   "execution_count": 87,
   "id": "c6c1ab05-b0de-446c-a722-700134f35e03",
   "metadata": {},
   "outputs": [
    {
     "data": {
      "text/plain": [
       "Text(0, 0.5, '')"
      ]
     },
     "execution_count": 87,
     "metadata": {},
     "output_type": "execute_result"
    },
    {
     "data": {
      "image/png": "[encoded data removed]",
      "text/plain": [
       "<Figure size 1000x800 with 4 Axes>"
      ]
     },
     "metadata": {},
     "output_type": "display_data"
    }
   ],
   "source": [
    "fig = plt.figure(figsize=(10,8))\n",
    "gs = fig.add_gridspec(3,3)\n",
    "gs.update(wspace=0.5, hspace=0.25)\n",
    "ax0 = fig.add_subplot(gs[0,0])\n",
    "ax1 = fig.add_subplot(gs[0,1])\n",
    "ax2 = fig.add_subplot(gs[0,2])\n",
    "ax3 = fig.add_subplot(gs[1,0])\n",
    "\n",
    "\n",
    "color_palette = [\"#800000\",\"#8000ff\",\"#6aac90\",\"#5833ff\",\"#da8829\"]\n",
    "\n",
    "# Sex count\n",
    "ax0.text(0.3, 220, 'Sex', fontsize=14, fontweight='bold', fontfamily='serif', color=\"#000000\")\n",
    "ax0.grid(color='#000000', linestyle=':', axis='y', zorder=0,  dashes=(1,5))\n",
    "sns.countplot(ax=ax0,data=df,x='sex',palette=color_palette)\n",
    "ax0.set_xlabel(\"\")\n",
    "ax0.set_ylabel(\"\")\n",
    "\n",
    "# Exng count\n",
    "ax1.text(0.3, 220, 'Exng', fontsize=14, fontweight='bold', fontfamily='serif', color=\"#000000\")\n",
    "ax1.grid(color='#000000', linestyle=':', axis='y', zorder=0,  dashes=(1,5))\n",
    "sns.countplot(ax=ax1,data=df,x='exng',palette=color_palette)\n",
    "ax1.set_xlabel(\"\")\n",
    "ax1.set_ylabel(\"\")\n",
    "\n",
    "# Fbs count\n",
    "ax2.text(0.5, 290, 'Fbs', fontsize=14, fontweight='bold', fontfamily='serif', color=\"#000000\")\n",
    "ax2.grid(color='#000000', linestyle=':', axis='y', zorder=0,  dashes=(1,5))\n",
    "sns.countplot(ax=ax2,data=df,x='fbs',palette=color_palette)\n",
    "ax2.set_xlabel(\"\")\n",
    "ax2.set_ylabel(\"\")\n",
    "\n",
    "# Thall count\n",
    "ax3.text(1.2, 180, 'Thall', fontsize=14, fontweight='bold', fontfamily='serif', color=\"#000000\")\n",
    "ax3.grid(color='#000000', linestyle=':', axis='y', zorder=0,  dashes=(1,5))\n",
    "sns.countplot(ax=ax3,data=df,x='thall',palette=color_palette)\n",
    "ax3.set_xlabel(\"\")\n",
    "ax3.set_ylabel(\"\")\n",
    "\n"
   ]
  },
  {
   "cell_type": "code",
   "execution_count": 88,
   "id": "53e35dce-9e75-47d7-a050-9f8a744eeb47",
   "metadata": {},
   "outputs": [
    {
     "data": {
      "text/plain": [
       "Text(0, 0.5, '')"
      ]
     },
     "execution_count": 88,
     "metadata": {},
     "output_type": "execute_result"
    },
    {
     "data": {
      "image/png": "[encoded data removed]",
      "text/plain": [
       "<Figure size 1000x800 with 4 Axes>"
      ]
     },
     "metadata": {},
     "output_type": "display_data"
    }
   ],
   "source": [
    "# Ahora vamos a ver como se distribuyen los valores en un boxplot. De este modo, podremos ver si tenemos algún outlier que podamos eliminar.\n",
    "\n",
    "fig = plt.figure(figsize=(10,8))\n",
    "gs = fig.add_gridspec(2,3)\n",
    "gs.update(wspace=0.3, hspace=0.15)\n",
    "ax0 = fig.add_subplot(gs[0,0])\n",
    "ax1 = fig.add_subplot(gs[0,1])\n",
    "ax2 = fig.add_subplot(gs[0,2])\n",
    "ax3 = fig.add_subplot(gs[1,0])\n",
    "\n",
    "# Age \n",
    "ax0.text(-0.05, 81, 'Age', fontsize=14, fontweight='bold', fontfamily='serif', color=\"#000000\")\n",
    "ax0.grid(color='#000000', linestyle=':', axis='y', zorder=0,  dashes=(1,5))\n",
    "sns.boxplot(ax=ax0,y=df['age'],palette=[\"#800000\"],width=0.6)\n",
    "ax0.set_xlabel(\"\")\n",
    "ax0.set_ylabel(\"\")\n",
    "\n",
    "# Trtbps \n",
    "ax1.text(-0.05, 208, 'Trtbps', fontsize=14, fontweight='bold', fontfamily='serif', color=\"#000000\")\n",
    "ax1.grid(color='#000000', linestyle=':', axis='y', zorder=0,  dashes=(1,5))\n",
    "sns.boxplot(ax=ax1,y=df['trtbps'],palette=[\"#8000ff\"],width=0.6)\n",
    "ax1.set_xlabel(\"\")\n",
    "ax1.set_ylabel(\"\")\n",
    "\n",
    "# Chol \n",
    "ax2.text(-0.05, 600, 'Chol', fontsize=14, fontweight='bold', fontfamily='serif', color=\"#000000\")\n",
    "ax2.grid(color='#000000', linestyle=':', axis='y', zorder=0,  dashes=(1,5))\n",
    "sns.boxplot(ax=ax2,y=df['chol'],palette=[\"#6aac90\"],width=0.6)\n",
    "ax2.set_xlabel(\"\")\n",
    "ax2.set_ylabel(\"\")\n",
    "\n",
    "# Thalachh \n",
    "ax3.text(-0.09, 210, 'Thalachh', fontsize=14, fontweight='bold', fontfamily='serif', color=\"#000000\")\n",
    "ax3.grid(color='#000000', linestyle=':', axis='y', zorder=0,  dashes=(1,5))\n",
    "sns.boxplot(ax=ax3,y=df['thalachh'],palette=[\"#da8829\"],width=0.6)\n",
    "ax3.set_xlabel(\"\")\n",
    "ax3.set_ylabel(\"\")\n"
   ]
  },
  {
   "cell_type": "code",
   "execution_count": 89,
   "id": "ec617d54-a4ab-4f09-a15a-cf34601ffc2f",
   "metadata": {},
   "outputs": [
    {
     "data": {
      "text/html": [
       "<div>\n",
       "<style scoped>\n",
       "    .dataframe tbody tr th:only-of-type {\n",
       "        vertical-align: middle;\n",
       "    }\n",
       "\n",
       "    .dataframe tbody tr th {\n",
       "        vertical-align: top;\n",
       "    }\n",
       "\n",
       "    .dataframe thead th {\n",
       "        text-align: right;\n",
       "    }\n",
       "</style>\n",
       "<table border=\"1\" class=\"dataframe\">\n",
       "  <thead>\n",
       "    <tr style=\"text-align: right;\">\n",
       "      <th></th>\n",
       "      <th>age</th>\n",
       "      <th>sex</th>\n",
       "      <th>trtbps</th>\n",
       "      <th>chol</th>\n",
       "      <th>fbs</th>\n",
       "      <th>thalachh</th>\n",
       "      <th>exng</th>\n",
       "      <th>thall</th>\n",
       "      <th>output</th>\n",
       "    </tr>\n",
       "  </thead>\n",
       "  <tbody>\n",
       "    <tr>\n",
       "      <th>age</th>\n",
       "      <td>1.000000</td>\n",
       "      <td>-0.094962</td>\n",
       "      <td>0.283121</td>\n",
       "      <td>0.207216</td>\n",
       "      <td>0.119492</td>\n",
       "      <td>-0.395235</td>\n",
       "      <td>0.093216</td>\n",
       "      <td>0.065317</td>\n",
       "      <td>-0.221476</td>\n",
       "    </tr>\n",
       "    <tr>\n",
       "      <th>sex</th>\n",
       "      <td>-0.094962</td>\n",
       "      <td>1.000000</td>\n",
       "      <td>-0.057647</td>\n",
       "      <td>-0.195571</td>\n",
       "      <td>0.046022</td>\n",
       "      <td>-0.046439</td>\n",
       "      <td>0.143460</td>\n",
       "      <td>0.211452</td>\n",
       "      <td>-0.283609</td>\n",
       "    </tr>\n",
       "    <tr>\n",
       "      <th>trtbps</th>\n",
       "      <td>0.283121</td>\n",
       "      <td>-0.057647</td>\n",
       "      <td>1.000000</td>\n",
       "      <td>0.125256</td>\n",
       "      <td>0.178125</td>\n",
       "      <td>-0.048023</td>\n",
       "      <td>0.068526</td>\n",
       "      <td>0.062870</td>\n",
       "      <td>-0.146269</td>\n",
       "    </tr>\n",
       "    <tr>\n",
       "      <th>chol</th>\n",
       "      <td>0.207216</td>\n",
       "      <td>-0.195571</td>\n",
       "      <td>0.125256</td>\n",
       "      <td>1.000000</td>\n",
       "      <td>0.011428</td>\n",
       "      <td>-0.005308</td>\n",
       "      <td>0.064099</td>\n",
       "      <td>0.096810</td>\n",
       "      <td>-0.081437</td>\n",
       "    </tr>\n",
       "    <tr>\n",
       "      <th>fbs</th>\n",
       "      <td>0.119492</td>\n",
       "      <td>0.046022</td>\n",
       "      <td>0.178125</td>\n",
       "      <td>0.011428</td>\n",
       "      <td>1.000000</td>\n",
       "      <td>-0.007169</td>\n",
       "      <td>0.024729</td>\n",
       "      <td>-0.032752</td>\n",
       "      <td>-0.026826</td>\n",
       "    </tr>\n",
       "    <tr>\n",
       "      <th>thalachh</th>\n",
       "      <td>-0.395235</td>\n",
       "      <td>-0.046439</td>\n",
       "      <td>-0.048023</td>\n",
       "      <td>-0.005308</td>\n",
       "      <td>-0.007169</td>\n",
       "      <td>1.000000</td>\n",
       "      <td>-0.377411</td>\n",
       "      <td>-0.094910</td>\n",
       "      <td>0.419955</td>\n",
       "    </tr>\n",
       "    <tr>\n",
       "      <th>exng</th>\n",
       "      <td>0.093216</td>\n",
       "      <td>0.143460</td>\n",
       "      <td>0.068526</td>\n",
       "      <td>0.064099</td>\n",
       "      <td>0.024729</td>\n",
       "      <td>-0.377411</td>\n",
       "      <td>1.000000</td>\n",
       "      <td>0.205826</td>\n",
       "      <td>-0.435601</td>\n",
       "    </tr>\n",
       "    <tr>\n",
       "      <th>thall</th>\n",
       "      <td>0.065317</td>\n",
       "      <td>0.211452</td>\n",
       "      <td>0.062870</td>\n",
       "      <td>0.096810</td>\n",
       "      <td>-0.032752</td>\n",
       "      <td>-0.094910</td>\n",
       "      <td>0.205826</td>\n",
       "      <td>1.000000</td>\n",
       "      <td>-0.343101</td>\n",
       "    </tr>\n",
       "    <tr>\n",
       "      <th>output</th>\n",
       "      <td>-0.221476</td>\n",
       "      <td>-0.283609</td>\n",
       "      <td>-0.146269</td>\n",
       "      <td>-0.081437</td>\n",
       "      <td>-0.026826</td>\n",
       "      <td>0.419955</td>\n",
       "      <td>-0.435601</td>\n",
       "      <td>-0.343101</td>\n",
       "      <td>1.000000</td>\n",
       "    </tr>\n",
       "  </tbody>\n",
       "</table>\n",
       "</div>"
      ],
      "text/plain": [
       "               age       sex    trtbps      chol       fbs  thalachh  \\\n",
       "age       1.000000 -0.094962  0.283121  0.207216  0.119492 -0.395235   \n",
       "sex      -0.094962  1.000000 -0.057647 -0.195571  0.046022 -0.046439   \n",
       "trtbps    0.283121 -0.057647  1.000000  0.125256  0.178125 -0.048023   \n",
       "chol      0.207216 -0.195571  0.125256  1.000000  0.011428 -0.005308   \n",
       "fbs       0.119492  0.046022  0.178125  0.011428  1.000000 -0.007169   \n",
       "thalachh -0.395235 -0.046439 -0.048023 -0.005308 -0.007169  1.000000   \n",
       "exng      0.093216  0.143460  0.068526  0.064099  0.024729 -0.377411   \n",
       "thall     0.065317  0.211452  0.062870  0.096810 -0.032752 -0.094910   \n",
       "output   -0.221476 -0.283609 -0.146269 -0.081437 -0.026826  0.419955   \n",
       "\n",
       "              exng     thall    output  \n",
       "age       0.093216  0.065317 -0.221476  \n",
       "sex       0.143460  0.211452 -0.283609  \n",
       "trtbps    0.068526  0.062870 -0.146269  \n",
       "chol      0.064099  0.096810 -0.081437  \n",
       "fbs       0.024729 -0.032752 -0.026826  \n",
       "thalachh -0.377411 -0.094910  0.419955  \n",
       "exng      1.000000  0.205826 -0.435601  \n",
       "thall     0.205826  1.000000 -0.343101  \n",
       "output   -0.435601 -0.343101  1.000000  "
      ]
     },
     "execution_count": 89,
     "metadata": {},
     "output_type": "execute_result"
    }
   ],
   "source": [
    "# Ahora vemos la correlación de núestrass varíables continuas\n",
    "\n",
    "df_corr = df.corr().transpose()\n",
    "df_corr"
   ]
  },
  {
   "cell_type": "code",
   "execution_count": 90,
   "id": "d17a8c27-9f9a-4264-9ac0-55a49718a47e",
   "metadata": {},
   "outputs": [],
   "source": [
    "df.to_csv('heart_final.csv',decimal=\",\",encoding='utf-16')"
   ]
  },
  {
   "cell_type": "markdown",
   "id": "d0a78484-7160-4bbf-9eff-67a002bd15de",
   "metadata": {},
   "source": [
    "### 2. Análisis Estadístico de Variables"
   ]
  },
  {
   "cell_type": "code",
   "execution_count": 91,
   "id": "d25a7d4e-22c9-4887-bdaf-c61b9aa08bc9",
   "metadata": {},
   "outputs": [
    {
     "name": "stdout",
     "output_type": "stream",
     "text": [
      "Chi-square test statistic: 23.083879459669042\n",
      "p-value: 1.5508552054949547e-06\n",
      "Existe relación entre el sexo y tener o no un infarto\n"
     ]
    }
   ],
   "source": [
    "from scipy.stats import chi2_contingency\n",
    "\n",
    "# Creamos una tabla de contingencia para sex y output\n",
    "ct = pd.crosstab(df[\"sex\"], df[\"output\"])\n",
    "\n",
    "# Realizamos el chi-cuadrado\n",
    "chi2, p, dof, expected = chi2_contingency(ct)\n",
    "\n",
    "# Print\n",
    "print(f\"Chi-square test statistic: {chi2}\")\n",
    "print(f\"p-value: {p}\")\n",
    "\n",
    "# Indicamos nuestro nivel de significancia\n",
    "alpha = 0.05\n",
    "if p < alpha:\n",
    "    print(\"Existe relación entre el sexo y tener o no un infarto\")\n",
    "else:\n",
    "    print(\"No existe relación entre el sexo y tener o no un infarto\")"
   ]
  },
  {
   "cell_type": "code",
   "execution_count": 92,
   "id": "106e6d37-2072-4783-97b0-03565090f3ba",
   "metadata": {},
   "outputs": [
    {
     "data": {
      "image/png": "[encoded data removed]",
      "text/plain": [
       "<Figure size 640x480 with 1 Axes>"
      ]
     },
     "metadata": {},
     "output_type": "display_data"
    }
   ],
   "source": [
    "# Creamos un gráfico de barras por sexo.\n",
    "sns.countplot(x=\"sex\", hue=\"output\", data=df,palette=[\"#56B4E9\",\"#F0E442\"],edgecolor=\".6\")\n",
    "\n",
    "# Añadimos labels y título\n",
    "plt.xlabel(\"Sex\")\n",
    "plt.ylabel(\"Count\")\n",
    "plt.title(\"Stacked Bar Plot of Output by Sex\")\n",
    "\n",
    "plt.show()"
   ]
  },
  {
   "cell_type": "code",
   "execution_count": 93,
   "id": "8d2a99bf-5e48-4277-b2db-57f66b54d33e",
   "metadata": {},
   "outputs": [
    {
     "name": "stdout",
     "output_type": "stream",
     "text": [
      "4.96589436238537e-11 Existe diferencia entre clientes con menos de 200 de colesterol y pacientes con más de 200 en colesterol\n"
     ]
    }
   ],
   "source": [
    "# Hacemos algo parecido pero para ver si hay diferencias entre valores altos y bajos de chol y thalachh\n",
    "\n",
    "from scipy.stats import norm\n",
    "\n",
    "success_rate_low = df[(df[\"chol\"] <= 200) & (df[\"thalachh\"] <= 150)][\"output\"].mean()\n",
    "\n",
    "success_rate_high = df[(df[\"chol\"] > 200) & (df[\"thalachh\"] > 150)][\"output\"].mean()\n",
    "\n",
    "# Calculamos nuestro valor z de contraste\n",
    "z =(success_rate_high - success_rate_low)/np.sqrt((success_rate_low * (1 - success_rate_low)) / \n",
    "                                                            len(df[(df[\"chol\"] > 200) & (df[\"thalachh\"] > 150)]) + \n",
    "                                                            (success_rate_high * (1 - success_rate_high)) / \n",
    "                                                            len(df[(df[\"chol\"] > 200) & (df[\"thalachh\"] > 150)]))\n",
    "\n",
    "# Calculamos el p-value gracias a nuestra z.\n",
    "p = 2 * (1 - norm.cdf(abs(z)))\n",
    "\n",
    "# Añadimo el valor de significancia.\n",
    "alpha = 0.05\n",
    "if p < alpha:\n",
    "    print(p, \"Existe diferencia entre clientes con menos de 200 de colesterol y pacientes con más de 200 en colesterol\")\n",
    "else:\n",
    "    print(p, \"No existe diferencia entre clientes con menos de 200 de colesterol y pacientes con más de 200 en colesterol\")"
   ]
  },
  {
   "cell_type": "code",
   "execution_count": 94,
   "id": "0038c4ca-52f6-4066-bf8d-aeff0585f300",
   "metadata": {},
   "outputs": [
    {
     "data": {
      "image/png": "[encoded data removed]",
      "text/plain": [
       "<Figure size 1800x1800 with 4 Axes>"
      ]
     },
     "metadata": {},
     "output_type": "display_data"
    }
   ],
   "source": [
    "fig = plt.figure(figsize=(18,18))\n",
    "gs = fig.add_gridspec(5,2)\n",
    "gs.update(wspace=0.5, hspace=0.5)\n",
    "ax0 = fig.add_subplot(gs[0,0])\n",
    "ax1 = fig.add_subplot(gs[0,1])\n",
    "ax2 = fig.add_subplot(gs[1,0])\n",
    "ax3 = fig.add_subplot(gs[1,1])\n",
    "\n",
    "background_color = \"#ffe6e6\"\n",
    "color_palette = [\"#800000\",\"#8000ff\",\"#6aac90\",\"#5833ff\",\"#da8829\"]\n",
    "fig.patch.set_facecolor(background_color) \n",
    "ax0.set_facecolor(background_color) \n",
    "ax1.set_facecolor(background_color) \n",
    "ax2.set_facecolor(background_color)\n",
    "ax3.set_facecolor(background_color)\n",
    "\n",
    "\n",
    "# título Chol\n",
    "ax0.text(0.5,0.5,\"Distribución de chol\\nde acuerdo con\\n la variable objetivo\\n___________\",\n",
    "        horizontalalignment = 'center',\n",
    "        verticalalignment = 'center',\n",
    "        fontsize = 18,\n",
    "        fontweight='bold',\n",
    "        fontfamily='serif',\n",
    "        color='#000000')\n",
    "ax0.spines[\"bottom\"].set_visible(False)\n",
    "ax0.set_xticklabels([])\n",
    "ax0.set_yticklabels([])\n",
    "ax0.tick_params(left=False, bottom=False)\n",
    "\n",
    "# Chol\n",
    "ax1.grid(color='#000000', linestyle=':', axis='y', zorder=0,  dashes=(1,5))\n",
    "sns.kdeplot(ax=ax1, data=df, x='chol',hue=\"output\", fill=True,palette=[\"#8000ff\",\"#da8829\"], alpha=.5, linewidth=0)\n",
    "ax1.set_xlabel(\"\")\n",
    "ax1.set_ylabel(\"\")\n",
    "\n",
    "\n",
    "# Título Thalachh\n",
    "ax2.text(0.5,0.5,\"Distribución de thalachh\\nde acuerdo con\\n la variable objetivo\\n___________\",\n",
    "        horizontalalignment = 'center',\n",
    "        verticalalignment = 'center',\n",
    "        fontsize = 18,\n",
    "        fontweight='bold',\n",
    "        fontfamily='serif',\n",
    "        color='#000000')\n",
    "ax2.spines[\"bottom\"].set_visible(False)\n",
    "ax2.set_xticklabels([])\n",
    "ax2.set_yticklabels([])\n",
    "ax2.tick_params(left=False, bottom=False)\n",
    "\n",
    "# Thalachh\n",
    "ax3.grid(color='#000000', linestyle=':', axis='y', zorder=0,  dashes=(1,5))\n",
    "sns.kdeplot(ax=ax3, data=df, x='thalachh',hue=\"output\", fill=True,palette=[\"#8000ff\",\"#da8829\"], alpha=.5, linewidth=0)\n",
    "ax3.set_xlabel(\"\")\n",
    "ax3.set_ylabel(\"\")\n",
    "\n",
    "for i in [\"top\",\"left\",\"right\"]:\n",
    "    ax0.spines[i].set_visible(False)\n",
    "    ax1.spines[i].set_visible(False)\n",
    "    ax2.spines[i].set_visible(False)\n",
    "    ax3.spines[i].set_visible(False)\n"
   ]
  },
  {
   "cell_type": "markdown",
   "id": "5019851e-a883-45b1-8cea-7b0c31195e30",
   "metadata": {},
   "source": [
    "### 3. Predicción"
   ]
  },
  {
   "cell_type": "code",
   "execution_count": 95,
   "id": "61d89254-75f5-4055-ac97-e883039fff7b",
   "metadata": {},
   "outputs": [
    {
     "name": "stdout",
     "output_type": "stream",
     "text": [
      "The first 5 rows of X are\n"
     ]
    },
    {
     "data": {
      "text/html": [
       "<div>\n",
       "<style scoped>\n",
       "    .dataframe tbody tr th:only-of-type {\n",
       "        vertical-align: middle;\n",
       "    }\n",
       "\n",
       "    .dataframe tbody tr th {\n",
       "        vertical-align: top;\n",
       "    }\n",
       "\n",
       "    .dataframe thead th {\n",
       "        text-align: right;\n",
       "    }\n",
       "</style>\n",
       "<table border=\"1\" class=\"dataframe\">\n",
       "  <thead>\n",
       "    <tr style=\"text-align: right;\">\n",
       "      <th></th>\n",
       "      <th>age</th>\n",
       "      <th>trtbps</th>\n",
       "      <th>chol</th>\n",
       "      <th>thalachh</th>\n",
       "      <th>sex_1</th>\n",
       "      <th>exng_1</th>\n",
       "      <th>fbs_1</th>\n",
       "      <th>thall_1</th>\n",
       "      <th>thall_2</th>\n",
       "      <th>thall_3</th>\n",
       "    </tr>\n",
       "  </thead>\n",
       "  <tbody>\n",
       "    <tr>\n",
       "      <th>0</th>\n",
       "      <td>0.576923</td>\n",
       "      <td>0.75</td>\n",
       "      <td>-0.117647</td>\n",
       "      <td>-0.076336</td>\n",
       "      <td>1</td>\n",
       "      <td>0</td>\n",
       "      <td>1</td>\n",
       "      <td>1</td>\n",
       "      <td>0</td>\n",
       "      <td>0</td>\n",
       "    </tr>\n",
       "    <tr>\n",
       "      <th>1</th>\n",
       "      <td>-1.423077</td>\n",
       "      <td>0.00</td>\n",
       "      <td>0.149020</td>\n",
       "      <td>1.053435</td>\n",
       "      <td>1</td>\n",
       "      <td>0</td>\n",
       "      <td>0</td>\n",
       "      <td>0</td>\n",
       "      <td>1</td>\n",
       "      <td>0</td>\n",
       "    </tr>\n",
       "    <tr>\n",
       "      <th>2</th>\n",
       "      <td>-1.115385</td>\n",
       "      <td>0.00</td>\n",
       "      <td>-0.572549</td>\n",
       "      <td>0.595420</td>\n",
       "      <td>0</td>\n",
       "      <td>0</td>\n",
       "      <td>0</td>\n",
       "      <td>0</td>\n",
       "      <td>1</td>\n",
       "      <td>0</td>\n",
       "    </tr>\n",
       "    <tr>\n",
       "      <th>3</th>\n",
       "      <td>0.038462</td>\n",
       "      <td>-0.50</td>\n",
       "      <td>-0.070588</td>\n",
       "      <td>0.778626</td>\n",
       "      <td>1</td>\n",
       "      <td>0</td>\n",
       "      <td>0</td>\n",
       "      <td>0</td>\n",
       "      <td>1</td>\n",
       "      <td>0</td>\n",
       "    </tr>\n",
       "    <tr>\n",
       "      <th>4</th>\n",
       "      <td>0.115385</td>\n",
       "      <td>-0.50</td>\n",
       "      <td>1.780392</td>\n",
       "      <td>0.320611</td>\n",
       "      <td>0</td>\n",
       "      <td>1</td>\n",
       "      <td>0</td>\n",
       "      <td>0</td>\n",
       "      <td>1</td>\n",
       "      <td>0</td>\n",
       "    </tr>\n",
       "  </tbody>\n",
       "</table>\n",
       "</div>"
      ],
      "text/plain": [
       "        age  trtbps      chol  thalachh  sex_1  exng_1  fbs_1  thall_1  \\\n",
       "0  0.576923    0.75 -0.117647 -0.076336      1       0      1        1   \n",
       "1 -1.423077    0.00  0.149020  1.053435      1       0      0        0   \n",
       "2 -1.115385    0.00 -0.572549  0.595420      0       0      0        0   \n",
       "3  0.038462   -0.50 -0.070588  0.778626      1       0      0        0   \n",
       "4  0.115385   -0.50  1.780392  0.320611      0       1      0        0   \n",
       "\n",
       "   thall_2  thall_3  \n",
       "0        0        0  \n",
       "1        1        0  \n",
       "2        1        0  \n",
       "3        1        0  \n",
       "4        1        0  "
      ]
     },
     "execution_count": 95,
     "metadata": {},
     "output_type": "execute_result"
    }
   ],
   "source": [
    "# Creamos una copia de df\n",
    "df1 = df\n",
    "\n",
    "# DEfinimos las columnas para realizar el encoding y el escalado\n",
    "cat_cols = ['sex','exng','fbs','thall']\n",
    "con_cols = [\"age\",\"trtbps\",\"chol\",\"thalachh\"]\n",
    "\n",
    "# Realizamos un encoding de las variables categóricas\n",
    "df1 = pd.get_dummies(df1, columns = cat_cols, drop_first = True)\n",
    "\n",
    "# Defiimos la variable X e Y\n",
    "X = df1.drop(['output'],axis=1)\n",
    "y = df1[['output']]\n",
    "\n",
    "# Escalamos nuestros datos\n",
    "scaler = RobustScaler()\n",
    "\n",
    "X[con_cols] = scaler.fit_transform(X[con_cols])\n",
    "print(\"The first 5 rows of X are\")\n",
    "X.head()"
   ]
  },
  {
   "cell_type": "code",
   "execution_count": 96,
   "id": "7c90c770-479e-41f9-a5a9-c7ad4c8e8dca",
   "metadata": {},
   "outputs": [
    {
     "name": "stdout",
     "output_type": "stream",
     "text": [
      "El tamaño de X_train es   (241, 10)\n",
      "El tamaño de X_test es    (61, 10)\n",
      "El tamaño de y_train es   (241, 1)\n",
      "El tamaño de y_test es    (61, 1)\n"
     ]
    }
   ],
   "source": [
    "X_train, X_test, y_train, y_test = train_test_split(X,y, test_size = 0.2, random_state = 42)\n",
    "print(\"El tamaño de X_train es  \", X_train.shape)\n",
    "print(\"El tamaño de X_test es   \",X_test.shape)\n",
    "print(\"El tamaño de y_train es  \",y_train.shape)\n",
    "print(\"El tamaño de y_test es   \",y_test.shape)"
   ]
  },
  {
   "cell_type": "code",
   "execution_count": 97,
   "id": "d65aea0d-68c2-42d4-b2e4-b98717d02bb2",
   "metadata": {},
   "outputs": [
    {
     "name": "stdout",
     "output_type": "stream",
     "text": [
      "La accuracy es  0.819672131147541\n"
     ]
    }
   ],
   "source": [
    "# Instanciamos el modelo\n",
    "model = LogisticRegression()\n",
    "\n",
    "# Hacemos un fit sobre los datos de entrenamiento\n",
    "model.fit(X_train, y_train)\n",
    "\n",
    "# Realizamos el predict sobre los datos de test.\n",
    "y_pred = model.predict(X_test)\n",
    "\n",
    "# Vemos la precisión del modelo\n",
    "print(\"La accuracy es \", accuracy_score(y_test, y_pred))"
   ]
  },
  {
   "cell_type": "code",
   "execution_count": 98,
   "id": "755c9fa9-21e5-4f20-8b48-9f19f126d4e8",
   "metadata": {},
   "outputs": [
    {
     "data": {
      "text/plain": [
       "array([1.33231298])"
      ]
     },
     "execution_count": 98,
     "metadata": {},
     "output_type": "execute_result"
    }
   ],
   "source": [
    "model.intercept_"
   ]
  },
  {
   "cell_type": "code",
   "execution_count": 99,
   "id": "ffbc99e2-7312-4655-8180-1615149eb1ae",
   "metadata": {},
   "outputs": [
    {
     "data": {
      "text/plain": [
       "array([[-0.23403231, -0.38330727, -0.19594377,  0.88928466, -1.07073171,\n",
       "        -1.21505946,  0.43143275, -0.14902272,  0.74539303, -0.98051027]])"
      ]
     },
     "execution_count": 99,
     "metadata": {},
     "output_type": "execute_result"
    }
   ],
   "source": [
    "model.coef_"
   ]
  },
  {
   "cell_type": "code",
   "execution_count": 100,
   "id": "703a13f3-bd30-4920-bf8d-0c4183ecbabc",
   "metadata": {},
   "outputs": [
    {
     "data": {
      "image/png": "[encoded data removed]",
      "text/plain": [
       "<Figure size 640x480 with 1 Axes>"
      ]
     },
     "metadata": {},
     "output_type": "display_data"
    }
   ],
   "source": [
    "# Realizamos la curva roc.\n",
    "fpr,tpr,threshols=roc_curve(y_test,y_pred)\n",
    "\n",
    "plt.plot([0,1],[0,1],\"k--\",'r+')\n",
    "plt.plot(fpr,tpr,label='Logistic Regression')\n",
    "plt.xlabel(\"False Positive Rate\")\n",
    "plt.ylabel(\"True Positive Rate\")\n",
    "plt.title(\"ROC Curve\")\n",
    "plt.show()"
   ]
  },
  {
   "cell_type": "code",
   "execution_count": null,
   "id": "ac57a09b-a3d9-4bf9-ab50-ce9861bec9cb",
   "metadata": {},
   "outputs": [],
   "source": []
  },
  {
   "cell_type": "code",
   "execution_count": null,
   "id": "35b7a18b-69ad-4b74-821e-fd3e68f44319",
   "metadata": {},
   "outputs": [],
   "source": []
  },
  {
   "cell_type": "code",
   "execution_count": null,
   "id": "7ffc75ee-9366-4433-937f-1905b1326135",
   "metadata": {},
   "outputs": [],
   "source": []
  }
 ],
 "metadata": {
  "kernelspec": {
   "display_name": "Python 3 (ipykernel)",
   "language": "python",
   "name": "python3"
  },
  "language_info": {
   "codemirror_mode": {
    "name": "ipython",
    "version": 3
   },
   "file_extension": ".py",
   "mimetype": "text/x-python",
   "name": "python",
   "nbconvert_exporter": "python",
   "pygments_lexer": "ipython3",
   "version": "3.9.7"
  }
 },
 "nbformat": 4,
 "nbformat_minor": 5
}
